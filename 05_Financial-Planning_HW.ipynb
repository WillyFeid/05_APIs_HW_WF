{
 "cells": [
  {
   "cell_type": "markdown",
   "metadata": {},
   "source": [
    "# Unit 5 - Financial Planning\n"
   ]
  },
  {
   "cell_type": "code",
   "execution_count": 13,
   "metadata": {},
   "outputs": [],
   "source": [
    "# Initial imports\n",
    "import os\n",
    "import requests\n",
    "import pandas as pd\n",
    "from dotenv import load_dotenv\n",
    "import alpaca_trade_api as tradeapi\n",
    "from MCForecastTools import MCSimulation\n",
    "\n",
    "%matplotlib inline"
   ]
  },
  {
   "cell_type": "code",
   "execution_count": 87,
   "metadata": {},
   "outputs": [
    {
     "data": {
      "text/plain": [
       "True"
      ]
     },
     "execution_count": 87,
     "metadata": {},
     "output_type": "execute_result"
    }
   ],
   "source": [
    "# Load .env enviroment variables\n",
    "load_dotenv(\"Resources/.WBF.env\")"
   ]
  },
  {
   "cell_type": "markdown",
   "metadata": {},
   "source": [
    "## Part 1 - Personal Finance Planner"
   ]
  },
  {
   "cell_type": "markdown",
   "metadata": {},
   "source": [
    "### Collect Crypto Prices Using the `requests` Library"
   ]
  },
  {
   "cell_type": "code",
   "execution_count": 15,
   "metadata": {},
   "outputs": [],
   "source": [
    "# Set current amount of crypto assets\n",
    "my_btc = 1.2\n",
    "my_eth = 5.3"
   ]
  },
  {
   "cell_type": "code",
   "execution_count": 16,
   "metadata": {},
   "outputs": [],
   "source": [
    "# Crypto API URLs\n",
    "btc_url = \"https://api.alternative.me/v2/ticker/Bitcoin/?convert=CAD\"\n",
    "eth_url = \"https://api.alternative.me/v2/ticker/Ethereum/?convert=CAD\""
   ]
  },
  {
   "cell_type": "code",
   "execution_count": 17,
   "metadata": {},
   "outputs": [],
   "source": [
    "import json \n",
    "btc_data = requests.get(btc_url).json()"
   ]
  },
  {
   "cell_type": "code",
   "execution_count": 18,
   "metadata": {},
   "outputs": [
    {
     "data": {
      "text/plain": [
       "49448.0"
      ]
     },
     "execution_count": 18,
     "metadata": {},
     "output_type": "execute_result"
    }
   ],
   "source": [
    "# Fetch current BTC price\n",
    "btc_price = btc_data[\"data\"][\"1\"][\"quotes\"][\"USD\"][\"price\"]\n",
    "btc_price"
   ]
  },
  {
   "cell_type": "code",
   "execution_count": 19,
   "metadata": {},
   "outputs": [],
   "source": [
    "eth_data = requests.get(eth_url).json()"
   ]
  },
  {
   "cell_type": "code",
   "execution_count": 20,
   "metadata": {},
   "outputs": [
    {
     "data": {
      "text/plain": [
       "2192.84"
      ]
     },
     "execution_count": 20,
     "metadata": {},
     "output_type": "execute_result"
    }
   ],
   "source": [
    "# Fetch current ETH price\n",
    "eth_price = eth_data[\"data\"][\"1027\"][\"quotes\"][\"USD\"][\"price\"]\n",
    "eth_price"
   ]
  },
  {
   "cell_type": "code",
   "execution_count": 21,
   "metadata": {},
   "outputs": [
    {
     "name": "stdout",
     "output_type": "stream",
     "text": [
      "The current value of your 1.2 BTC is $59337.60\n",
      "The current value of your 5.3 ETH is $11622.05\n"
     ]
    }
   ],
   "source": [
    "# Compute current value of my crpto\n",
    "my_btc_value = my_btc * btc_price\n",
    "my_eth_value = my_eth * eth_price\n",
    "\n",
    "# Print current crypto wallet balance\n",
    "print(f\"The current value of your {my_btc} BTC is ${my_btc_value:0.2f}\")\n",
    "print(f\"The current value of your {my_eth} ETH is ${my_eth_value:0.2f}\")"
   ]
  },
  {
   "cell_type": "markdown",
   "metadata": {},
   "source": [
    "### Collect Investments Data Using Alpaca: `SPY` (stocks) and `AGG` (bonds)"
   ]
  },
  {
   "cell_type": "code",
   "execution_count": 22,
   "metadata": {},
   "outputs": [],
   "source": [
    "# Current amount of shares\n",
    "my_spy = 50\n",
    "my_agg = 200"
   ]
  },
  {
   "cell_type": "code",
   "execution_count": 23,
   "metadata": {},
   "outputs": [],
   "source": [
    "# Set Alpaca API key and secret\n",
    "alpaca_api_key = os.getenv(\"ALPACA_API_KEY\")\n",
    "alpaca_secret_key = os.getenv(\"ALPACA_SECRET_KEY\")\n",
    "\n",
    "# Create the Alpaca API object\n",
    "alpaca = tradeapi.REST(\n",
    "    alpaca_api_key,\n",
    "    alpaca_secret_key,\n",
    "    api_version=\"v2\")\n"
   ]
  },
  {
   "cell_type": "code",
   "execution_count": 24,
   "metadata": {},
   "outputs": [
    {
     "data": {
      "text/html": [
       "<div>\n",
       "<style scoped>\n",
       "    .dataframe tbody tr th:only-of-type {\n",
       "        vertical-align: middle;\n",
       "    }\n",
       "\n",
       "    .dataframe tbody tr th {\n",
       "        vertical-align: top;\n",
       "    }\n",
       "\n",
       "    .dataframe thead tr th {\n",
       "        text-align: left;\n",
       "    }\n",
       "</style>\n",
       "<table border=\"1\" class=\"dataframe\">\n",
       "  <thead>\n",
       "    <tr>\n",
       "      <th></th>\n",
       "      <th colspan=\"5\" halign=\"left\">AGG</th>\n",
       "      <th colspan=\"5\" halign=\"left\">SPY</th>\n",
       "    </tr>\n",
       "    <tr>\n",
       "      <th></th>\n",
       "      <th>open</th>\n",
       "      <th>high</th>\n",
       "      <th>low</th>\n",
       "      <th>close</th>\n",
       "      <th>volume</th>\n",
       "      <th>open</th>\n",
       "      <th>high</th>\n",
       "      <th>low</th>\n",
       "      <th>close</th>\n",
       "      <th>volume</th>\n",
       "    </tr>\n",
       "  </thead>\n",
       "  <tbody>\n",
       "    <tr>\n",
       "      <th>2021-04-22</th>\n",
       "      <td>114.74</td>\n",
       "      <td>114.8</td>\n",
       "      <td>114.59</td>\n",
       "      <td>114.77</td>\n",
       "      <td>3518947</td>\n",
       "      <td>415.88</td>\n",
       "      <td>416.78</td>\n",
       "      <td>411.13</td>\n",
       "      <td>412.3</td>\n",
       "      <td>90086341</td>\n",
       "    </tr>\n",
       "  </tbody>\n",
       "</table>\n",
       "</div>"
      ],
      "text/plain": [
       "               AGG                                     SPY                  \\\n",
       "              open   high     low   close   volume    open    high     low   \n",
       "2021-04-22  114.74  114.8  114.59  114.77  3518947  415.88  416.78  411.13   \n",
       "\n",
       "                             \n",
       "            close    volume  \n",
       "2021-04-22  412.3  90086341  "
      ]
     },
     "execution_count": 24,
     "metadata": {},
     "output_type": "execute_result"
    }
   ],
   "source": [
    "# Format current date as ISO format\n",
    "today = pd.Timestamp(\"2021-04-22\", tz=\"America/New_York\").isoformat()\n",
    "\n",
    "# Set the tickers\n",
    "tickers = [\"AGG\", \"SPY\"]\n",
    "\n",
    "# Set timeframe to '1D' for Alpaca API\n",
    "timeframe = \"1D\"\n",
    "\n",
    "# Preview DataFrame\n",
    "stock_df = alpaca.get_barset(\n",
    "    tickers,\n",
    "    timeframe,\n",
    "    start = today,\n",
    "    end = today\n",
    ").df\n",
    "stock_df.index = stock_df.index.date\n",
    "stock_df"
   ]
  },
  {
   "cell_type": "code",
   "execution_count": 25,
   "metadata": {},
   "outputs": [],
   "source": [
    "# Get current closing prices for SPY and AGG\n",
    "agg_close_price = float(stock_df[\"AGG\"][\"close\"])\n",
    "spy_close_price = float(stock_df[\"SPY\"][\"close\"])"
   ]
  },
  {
   "cell_type": "code",
   "execution_count": 26,
   "metadata": {},
   "outputs": [
    {
     "name": "stdout",
     "output_type": "stream",
     "text": [
      "Current AGG closing price: $114.77\n",
      "Current SPY closing price: $412.3\n"
     ]
    }
   ],
   "source": [
    "# Print AGG and SPY close prices\n",
    "print(f\"Current AGG closing price: ${agg_close_price}\")\n",
    "print(f\"Current SPY closing price: ${spy_close_price}\")"
   ]
  },
  {
   "cell_type": "code",
   "execution_count": 27,
   "metadata": {},
   "outputs": [
    {
     "name": "stdout",
     "output_type": "stream",
     "text": [
      "The current value of your 50 SPY shares is $20615.00\n",
      "The current value of your 200 AGG shares is $22954.00\n"
     ]
    }
   ],
   "source": [
    "# Compute the current value of shares\n",
    "my_spy_value = my_spy * spy_close_price\n",
    "my_agg_value = my_agg * agg_close_price\n",
    "# Print current value of share\n",
    "print(f\"The current value of your {my_spy} SPY shares is ${my_spy_value:0.2f}\")\n",
    "print(f\"The current value of your {my_agg} AGG shares is ${my_agg_value:0.2f}\")"
   ]
  },
  {
   "cell_type": "markdown",
   "metadata": {},
   "source": [
    "### Savings Health Analysis"
   ]
  },
  {
   "cell_type": "code",
   "execution_count": 45,
   "metadata": {},
   "outputs": [
    {
     "data": {
      "text/html": [
       "<div>\n",
       "<style scoped>\n",
       "    .dataframe tbody tr th:only-of-type {\n",
       "        vertical-align: middle;\n",
       "    }\n",
       "\n",
       "    .dataframe tbody tr th {\n",
       "        vertical-align: top;\n",
       "    }\n",
       "\n",
       "    .dataframe thead th {\n",
       "        text-align: right;\n",
       "    }\n",
       "</style>\n",
       "<table border=\"1\" class=\"dataframe\">\n",
       "  <thead>\n",
       "    <tr style=\"text-align: right;\">\n",
       "      <th></th>\n",
       "      <th>Amount</th>\n",
       "    </tr>\n",
       "  </thead>\n",
       "  <tbody>\n",
       "    <tr>\n",
       "      <th>Shares</th>\n",
       "      <td>43569.000</td>\n",
       "    </tr>\n",
       "    <tr>\n",
       "      <th>Crypto</th>\n",
       "      <td>70959.652</td>\n",
       "    </tr>\n",
       "  </tbody>\n",
       "</table>\n",
       "</div>"
      ],
      "text/plain": [
       "           Amount\n",
       "Shares  43569.000\n",
       "Crypto  70959.652"
      ]
     },
     "metadata": {},
     "output_type": "display_data"
    }
   ],
   "source": [
    "# Set monthly household income\n",
    "monthly_income = 1200\n",
    "\n",
    "# Create savings DataFrame\n",
    "savings_data = {\n",
    "    \"Shares\": [my_spy_value + my_agg_value],\n",
    "    \"Crypto\": [my_btc_value + my_eth_value]\n",
    "}\n",
    "\n",
    "df_savings = pd.DataFrame.from_dict(savings_data, orient='index', columns=[\"Amount\"])\n",
    "\n",
    "\n",
    "# Display savings DataFrame\n",
    "display(df_savings)"
   ]
  },
  {
   "cell_type": "code",
   "execution_count": 47,
   "metadata": {},
   "outputs": [
    {
     "data": {
      "text/plain": [
       "array([<AxesSubplot:ylabel='Amount'>], dtype=object)"
      ]
     },
     "execution_count": 47,
     "metadata": {},
     "output_type": "execute_result"
    },
    {
     "data": {
      "image/png": "[encoded data removed]",
      "text/plain": [
       "<Figure size 432x288 with 1 Axes>"
      ]
     },
     "metadata": {},
     "output_type": "display_data"
    }
   ],
   "source": [
    "# Plot savings pie chart\n",
    "df_savings.plot.pie(autopct='%1.1f%%', title=\"Portfolio Distribution\", subplots=True)"
   ]
  },
  {
   "cell_type": "code",
   "execution_count": 51,
   "metadata": {},
   "outputs": [
    {
     "name": "stdout",
     "output_type": "stream",
     "text": [
      "Congrats! You're savings of $114528.652 is enough to be safe in case of emergency\n"
     ]
    }
   ],
   "source": [
    "# Set ideal emergency fund\n",
    "emergency_fund = monthly_income * 3\n",
    "\n",
    "# Calculate total amount of savings\n",
    "total_savings = df_savings[\"Amount\"][\"Shares\"] + df_savings[\"Amount\"][\"Crypto\"]\n",
    "\n",
    "# Validate saving health\n",
    "if total_savings > emergency_fund:\n",
    "    print(f\"Congrats! You're savings of ${total_savings} is enough to be safe in case of emergency\")\n",
    "if total_savings == emergency_fund:\n",
    "    print(f\"Congrats! You met you're financial goal of ${total_savings}\")\n",
    "if total_savings < emergency_fund:\n",
    "    print(f\"You need to save ${emergency_fund - total_savings} in order to meet your financial goal\")"
   ]
  },
  {
   "cell_type": "markdown",
   "metadata": {},
   "source": [
    "## Part 2 - Retirement Planning\n",
    "\n",
    "### Monte Carlo Simulation"
   ]
  },
  {
   "cell_type": "code",
   "execution_count": 52,
   "metadata": {},
   "outputs": [],
   "source": [
    "# Set start and end dates of five years back from today.\n",
    "# Sample results may vary from the solution based on the time frame chosen\n",
    "start_date = pd.Timestamp('2016-04-22', tz='America/New_York').isoformat()\n",
    "end_date = pd.Timestamp('2021-04-22', tz='America/New_York').isoformat()"
   ]
  },
  {
   "cell_type": "code",
   "execution_count": 53,
   "metadata": {},
   "outputs": [
    {
     "data": {
      "text/html": [
       "<div>\n",
       "<style scoped>\n",
       "    .dataframe tbody tr th:only-of-type {\n",
       "        vertical-align: middle;\n",
       "    }\n",
       "\n",
       "    .dataframe tbody tr th {\n",
       "        vertical-align: top;\n",
       "    }\n",
       "\n",
       "    .dataframe thead tr th {\n",
       "        text-align: left;\n",
       "    }\n",
       "</style>\n",
       "<table border=\"1\" class=\"dataframe\">\n",
       "  <thead>\n",
       "    <tr>\n",
       "      <th></th>\n",
       "      <th colspan=\"5\" halign=\"left\">AGG</th>\n",
       "      <th colspan=\"5\" halign=\"left\">SPY</th>\n",
       "    </tr>\n",
       "    <tr>\n",
       "      <th></th>\n",
       "      <th>open</th>\n",
       "      <th>high</th>\n",
       "      <th>low</th>\n",
       "      <th>close</th>\n",
       "      <th>volume</th>\n",
       "      <th>open</th>\n",
       "      <th>high</th>\n",
       "      <th>low</th>\n",
       "      <th>close</th>\n",
       "      <th>volume</th>\n",
       "    </tr>\n",
       "  </thead>\n",
       "  <tbody>\n",
       "    <tr>\n",
       "      <th>2017-05-02</th>\n",
       "      <td>108.68</td>\n",
       "      <td>108.94</td>\n",
       "      <td>108.679</td>\n",
       "      <td>108.890</td>\n",
       "      <td>2570794.0</td>\n",
       "      <td>NaN</td>\n",
       "      <td>NaN</td>\n",
       "      <td>NaN</td>\n",
       "      <td>NaN</td>\n",
       "      <td>NaN</td>\n",
       "    </tr>\n",
       "    <tr>\n",
       "      <th>2017-05-03</th>\n",
       "      <td>108.97</td>\n",
       "      <td>108.99</td>\n",
       "      <td>108.770</td>\n",
       "      <td>108.795</td>\n",
       "      <td>1765578.0</td>\n",
       "      <td>238.32</td>\n",
       "      <td>238.8775</td>\n",
       "      <td>237.70</td>\n",
       "      <td>238.52</td>\n",
       "      <td>47292627.0</td>\n",
       "    </tr>\n",
       "    <tr>\n",
       "      <th>2017-05-04</th>\n",
       "      <td>108.55</td>\n",
       "      <td>108.70</td>\n",
       "      <td>108.550</td>\n",
       "      <td>108.665</td>\n",
       "      <td>1789624.0</td>\n",
       "      <td>238.83</td>\n",
       "      <td>238.9225</td>\n",
       "      <td>237.78</td>\n",
       "      <td>238.75</td>\n",
       "      <td>46170233.0</td>\n",
       "    </tr>\n",
       "    <tr>\n",
       "      <th>2017-05-05</th>\n",
       "      <td>108.72</td>\n",
       "      <td>108.74</td>\n",
       "      <td>108.570</td>\n",
       "      <td>108.720</td>\n",
       "      <td>1287794.0</td>\n",
       "      <td>239.18</td>\n",
       "      <td>239.7200</td>\n",
       "      <td>238.68</td>\n",
       "      <td>239.72</td>\n",
       "      <td>43733544.0</td>\n",
       "    </tr>\n",
       "    <tr>\n",
       "      <th>2017-05-08</th>\n",
       "      <td>108.63</td>\n",
       "      <td>108.67</td>\n",
       "      <td>108.490</td>\n",
       "      <td>108.495</td>\n",
       "      <td>1579134.0</td>\n",
       "      <td>239.76</td>\n",
       "      <td>239.9200</td>\n",
       "      <td>239.17</td>\n",
       "      <td>239.67</td>\n",
       "      <td>32087919.0</td>\n",
       "    </tr>\n",
       "  </tbody>\n",
       "</table>\n",
       "</div>"
      ],
      "text/plain": [
       "               AGG                                          SPY            \\\n",
       "              open    high      low    close     volume    open      high   \n",
       "2017-05-02  108.68  108.94  108.679  108.890  2570794.0     NaN       NaN   \n",
       "2017-05-03  108.97  108.99  108.770  108.795  1765578.0  238.32  238.8775   \n",
       "2017-05-04  108.55  108.70  108.550  108.665  1789624.0  238.83  238.9225   \n",
       "2017-05-05  108.72  108.74  108.570  108.720  1287794.0  239.18  239.7200   \n",
       "2017-05-08  108.63  108.67  108.490  108.495  1579134.0  239.76  239.9200   \n",
       "\n",
       "                                        \n",
       "               low   close      volume  \n",
       "2017-05-02     NaN     NaN         NaN  \n",
       "2017-05-03  237.70  238.52  47292627.0  \n",
       "2017-05-04  237.78  238.75  46170233.0  \n",
       "2017-05-05  238.68  239.72  43733544.0  \n",
       "2017-05-08  239.17  239.67  32087919.0  "
      ]
     },
     "execution_count": 53,
     "metadata": {},
     "output_type": "execute_result"
    }
   ],
   "source": [
    "# Get 5 years' worth of historical data for SPY and AGG\n",
    "df_stock_data = alpaca.get_barset(\n",
    "    tickers,\n",
    "    timeframe,\n",
    "    start=start_date,\n",
    "    end=end_date,\n",
    "    limit=1000,\n",
    ").df\n",
    "\n",
    "# Display sample data\n",
    "df_stock_data.index = df_stock_data.index.date\n",
    "df_stock_data.head()"
   ]
  },
  {
   "cell_type": "code",
   "execution_count": 55,
   "metadata": {},
   "outputs": [],
   "source": [
    "# Configuring a Monte Carlo simulation to forecast 30 years cumulative returns\n",
    "num_sims = 500\n",
    "df_stock_forcast = MCSimulation(\n",
    "    portfolio_data = df_stock_data,\n",
    "    weights = [.40, .60],\n",
    "    num_simulation = num_sims,\n",
    "    num_trading_days = 252*30\n",
    ")\n"
   ]
  },
  {
   "cell_type": "code",
   "execution_count": 58,
   "metadata": {},
   "outputs": [
    {
     "data": {
      "text/html": [
       "<div>\n",
       "<style scoped>\n",
       "    .dataframe tbody tr th:only-of-type {\n",
       "        vertical-align: middle;\n",
       "    }\n",
       "\n",
       "    .dataframe tbody tr th {\n",
       "        vertical-align: top;\n",
       "    }\n",
       "\n",
       "    .dataframe thead tr th {\n",
       "        text-align: left;\n",
       "    }\n",
       "</style>\n",
       "<table border=\"1\" class=\"dataframe\">\n",
       "  <thead>\n",
       "    <tr>\n",
       "      <th></th>\n",
       "      <th colspan=\"6\" halign=\"left\">AGG</th>\n",
       "      <th colspan=\"6\" halign=\"left\">SPY</th>\n",
       "    </tr>\n",
       "    <tr>\n",
       "      <th></th>\n",
       "      <th>open</th>\n",
       "      <th>high</th>\n",
       "      <th>low</th>\n",
       "      <th>close</th>\n",
       "      <th>volume</th>\n",
       "      <th>daily_return</th>\n",
       "      <th>open</th>\n",
       "      <th>high</th>\n",
       "      <th>low</th>\n",
       "      <th>close</th>\n",
       "      <th>volume</th>\n",
       "      <th>daily_return</th>\n",
       "    </tr>\n",
       "  </thead>\n",
       "  <tbody>\n",
       "    <tr>\n",
       "      <th>2017-05-04</th>\n",
       "      <td>108.55</td>\n",
       "      <td>108.70</td>\n",
       "      <td>108.55</td>\n",
       "      <td>108.665</td>\n",
       "      <td>1789624.0</td>\n",
       "      <td>-0.001195</td>\n",
       "      <td>238.83</td>\n",
       "      <td>238.9225</td>\n",
       "      <td>237.78</td>\n",
       "      <td>238.75</td>\n",
       "      <td>46170233.0</td>\n",
       "      <td>0.000964</td>\n",
       "    </tr>\n",
       "    <tr>\n",
       "      <th>2017-05-05</th>\n",
       "      <td>108.72</td>\n",
       "      <td>108.74</td>\n",
       "      <td>108.57</td>\n",
       "      <td>108.720</td>\n",
       "      <td>1287794.0</td>\n",
       "      <td>0.000506</td>\n",
       "      <td>239.18</td>\n",
       "      <td>239.7200</td>\n",
       "      <td>238.68</td>\n",
       "      <td>239.72</td>\n",
       "      <td>43733544.0</td>\n",
       "      <td>0.004063</td>\n",
       "    </tr>\n",
       "    <tr>\n",
       "      <th>2017-05-08</th>\n",
       "      <td>108.63</td>\n",
       "      <td>108.67</td>\n",
       "      <td>108.49</td>\n",
       "      <td>108.495</td>\n",
       "      <td>1579134.0</td>\n",
       "      <td>-0.002070</td>\n",
       "      <td>239.76</td>\n",
       "      <td>239.9200</td>\n",
       "      <td>239.17</td>\n",
       "      <td>239.67</td>\n",
       "      <td>32087919.0</td>\n",
       "      <td>-0.000209</td>\n",
       "    </tr>\n",
       "    <tr>\n",
       "      <th>2017-05-09</th>\n",
       "      <td>108.43</td>\n",
       "      <td>108.51</td>\n",
       "      <td>108.40</td>\n",
       "      <td>108.495</td>\n",
       "      <td>2395343.0</td>\n",
       "      <td>0.000000</td>\n",
       "      <td>239.96</td>\n",
       "      <td>240.1900</td>\n",
       "      <td>239.04</td>\n",
       "      <td>239.46</td>\n",
       "      <td>39723891.0</td>\n",
       "      <td>-0.000876</td>\n",
       "    </tr>\n",
       "    <tr>\n",
       "      <th>2017-05-10</th>\n",
       "      <td>108.60</td>\n",
       "      <td>108.66</td>\n",
       "      <td>108.44</td>\n",
       "      <td>108.520</td>\n",
       "      <td>1427511.0</td>\n",
       "      <td>0.000230</td>\n",
       "      <td>239.38</td>\n",
       "      <td>239.8700</td>\n",
       "      <td>239.15</td>\n",
       "      <td>239.85</td>\n",
       "      <td>34222778.0</td>\n",
       "      <td>0.001629</td>\n",
       "    </tr>\n",
       "  </tbody>\n",
       "</table>\n",
       "</div>"
      ],
      "text/plain": [
       "               AGG                                                      SPY  \\\n",
       "              open    high     low    close     volume daily_return    open   \n",
       "2017-05-04  108.55  108.70  108.55  108.665  1789624.0    -0.001195  238.83   \n",
       "2017-05-05  108.72  108.74  108.57  108.720  1287794.0     0.000506  239.18   \n",
       "2017-05-08  108.63  108.67  108.49  108.495  1579134.0    -0.002070  239.76   \n",
       "2017-05-09  108.43  108.51  108.40  108.495  2395343.0     0.000000  239.96   \n",
       "2017-05-10  108.60  108.66  108.44  108.520  1427511.0     0.000230  239.38   \n",
       "\n",
       "                                                               \n",
       "                high     low   close      volume daily_return  \n",
       "2017-05-04  238.9225  237.78  238.75  46170233.0     0.000964  \n",
       "2017-05-05  239.7200  238.68  239.72  43733544.0     0.004063  \n",
       "2017-05-08  239.9200  239.17  239.67  32087919.0    -0.000209  \n",
       "2017-05-09  240.1900  239.04  239.46  39723891.0    -0.000876  \n",
       "2017-05-10  239.8700  239.15  239.85  34222778.0     0.001629  "
      ]
     },
     "execution_count": 58,
     "metadata": {},
     "output_type": "execute_result"
    }
   ],
   "source": [
    "# Printing the simulation input data\n",
    "df_stock_forcast.portfolio_data.dropna().head()"
   ]
  },
  {
   "cell_type": "code",
   "execution_count": 59,
   "metadata": {},
   "outputs": [
    {
     "name": "stdout",
     "output_type": "stream",
     "text": [
      "Running Monte Carlo simulation number 0.\n",
      "Running Monte Carlo simulation number 10.\n",
      "Running Monte Carlo simulation number 20.\n",
      "Running Monte Carlo simulation number 30.\n",
      "Running Monte Carlo simulation number 40.\n",
      "Running Monte Carlo simulation number 50.\n",
      "Running Monte Carlo simulation number 60.\n",
      "Running Monte Carlo simulation number 70.\n",
      "Running Monte Carlo simulation number 80.\n",
      "Running Monte Carlo simulation number 90.\n",
      "Running Monte Carlo simulation number 100.\n",
      "Running Monte Carlo simulation number 110.\n",
      "Running Monte Carlo simulation number 120.\n",
      "Running Monte Carlo simulation number 130.\n",
      "Running Monte Carlo simulation number 140.\n",
      "Running Monte Carlo simulation number 150.\n",
      "Running Monte Carlo simulation number 160.\n",
      "Running Monte Carlo simulation number 170.\n",
      "Running Monte Carlo simulation number 180.\n",
      "Running Monte Carlo simulation number 190.\n",
      "Running Monte Carlo simulation number 200.\n",
      "Running Monte Carlo simulation number 210.\n",
      "Running Monte Carlo simulation number 220.\n",
      "Running Monte Carlo simulation number 230.\n",
      "Running Monte Carlo simulation number 240.\n",
      "Running Monte Carlo simulation number 250.\n",
      "Running Monte Carlo simulation number 260.\n",
      "Running Monte Carlo simulation number 270.\n",
      "Running Monte Carlo simulation number 280.\n",
      "Running Monte Carlo simulation number 290.\n",
      "Running Monte Carlo simulation number 300.\n",
      "Running Monte Carlo simulation number 310.\n",
      "Running Monte Carlo simulation number 320.\n",
      "Running Monte Carlo simulation number 330.\n",
      "Running Monte Carlo simulation number 340.\n",
      "Running Monte Carlo simulation number 350.\n",
      "Running Monte Carlo simulation number 360.\n",
      "Running Monte Carlo simulation number 370.\n",
      "Running Monte Carlo simulation number 380.\n",
      "Running Monte Carlo simulation number 390.\n",
      "Running Monte Carlo simulation number 400.\n",
      "Running Monte Carlo simulation number 410.\n",
      "Running Monte Carlo simulation number 420.\n",
      "Running Monte Carlo simulation number 430.\n",
      "Running Monte Carlo simulation number 440.\n",
      "Running Monte Carlo simulation number 450.\n",
      "Running Monte Carlo simulation number 460.\n",
      "Running Monte Carlo simulation number 470.\n",
      "Running Monte Carlo simulation number 480.\n",
      "Running Monte Carlo simulation number 490.\n"
     ]
    },
    {
     "data": {
      "text/html": [
       "<div>\n",
       "<style scoped>\n",
       "    .dataframe tbody tr th:only-of-type {\n",
       "        vertical-align: middle;\n",
       "    }\n",
       "\n",
       "    .dataframe tbody tr th {\n",
       "        vertical-align: top;\n",
       "    }\n",
       "\n",
       "    .dataframe thead th {\n",
       "        text-align: right;\n",
       "    }\n",
       "</style>\n",
       "<table border=\"1\" class=\"dataframe\">\n",
       "  <thead>\n",
       "    <tr style=\"text-align: right;\">\n",
       "      <th></th>\n",
       "      <th>0</th>\n",
       "      <th>1</th>\n",
       "      <th>2</th>\n",
       "      <th>3</th>\n",
       "      <th>4</th>\n",
       "      <th>5</th>\n",
       "      <th>6</th>\n",
       "      <th>7</th>\n",
       "      <th>8</th>\n",
       "      <th>9</th>\n",
       "      <th>...</th>\n",
       "      <th>490</th>\n",
       "      <th>491</th>\n",
       "      <th>492</th>\n",
       "      <th>493</th>\n",
       "      <th>494</th>\n",
       "      <th>495</th>\n",
       "      <th>496</th>\n",
       "      <th>497</th>\n",
       "      <th>498</th>\n",
       "      <th>499</th>\n",
       "    </tr>\n",
       "  </thead>\n",
       "  <tbody>\n",
       "    <tr>\n",
       "      <th>0</th>\n",
       "      <td>1.000000</td>\n",
       "      <td>1.000000</td>\n",
       "      <td>1.000000</td>\n",
       "      <td>1.000000</td>\n",
       "      <td>1.000000</td>\n",
       "      <td>1.000000</td>\n",
       "      <td>1.000000</td>\n",
       "      <td>1.000000</td>\n",
       "      <td>1.000000</td>\n",
       "      <td>1.000000</td>\n",
       "      <td>...</td>\n",
       "      <td>1.000000</td>\n",
       "      <td>1.000000</td>\n",
       "      <td>1.000000</td>\n",
       "      <td>1.000000</td>\n",
       "      <td>1.000000</td>\n",
       "      <td>1.000000</td>\n",
       "      <td>1.000000</td>\n",
       "      <td>1.000000</td>\n",
       "      <td>1.000000</td>\n",
       "      <td>1.000000</td>\n",
       "    </tr>\n",
       "    <tr>\n",
       "      <th>1</th>\n",
       "      <td>0.982340</td>\n",
       "      <td>1.015336</td>\n",
       "      <td>0.997114</td>\n",
       "      <td>1.009582</td>\n",
       "      <td>0.993659</td>\n",
       "      <td>0.995708</td>\n",
       "      <td>0.993239</td>\n",
       "      <td>1.014595</td>\n",
       "      <td>1.008630</td>\n",
       "      <td>1.013435</td>\n",
       "      <td>...</td>\n",
       "      <td>1.019850</td>\n",
       "      <td>0.987760</td>\n",
       "      <td>0.996175</td>\n",
       "      <td>1.000977</td>\n",
       "      <td>1.013350</td>\n",
       "      <td>0.999950</td>\n",
       "      <td>1.003629</td>\n",
       "      <td>1.003252</td>\n",
       "      <td>0.993821</td>\n",
       "      <td>1.012507</td>\n",
       "    </tr>\n",
       "    <tr>\n",
       "      <th>2</th>\n",
       "      <td>0.987523</td>\n",
       "      <td>1.019502</td>\n",
       "      <td>1.003811</td>\n",
       "      <td>1.000043</td>\n",
       "      <td>0.996191</td>\n",
       "      <td>0.988325</td>\n",
       "      <td>0.997589</td>\n",
       "      <td>1.017005</td>\n",
       "      <td>0.999302</td>\n",
       "      <td>1.021898</td>\n",
       "      <td>...</td>\n",
       "      <td>1.032395</td>\n",
       "      <td>0.991961</td>\n",
       "      <td>1.009349</td>\n",
       "      <td>0.994745</td>\n",
       "      <td>1.014049</td>\n",
       "      <td>0.986392</td>\n",
       "      <td>1.006346</td>\n",
       "      <td>1.010075</td>\n",
       "      <td>0.992198</td>\n",
       "      <td>1.016816</td>\n",
       "    </tr>\n",
       "    <tr>\n",
       "      <th>3</th>\n",
       "      <td>0.987258</td>\n",
       "      <td>1.015078</td>\n",
       "      <td>0.999600</td>\n",
       "      <td>0.994168</td>\n",
       "      <td>1.003663</td>\n",
       "      <td>0.987599</td>\n",
       "      <td>1.000600</td>\n",
       "      <td>1.011623</td>\n",
       "      <td>1.004526</td>\n",
       "      <td>1.023432</td>\n",
       "      <td>...</td>\n",
       "      <td>1.023816</td>\n",
       "      <td>0.996827</td>\n",
       "      <td>1.016818</td>\n",
       "      <td>1.003288</td>\n",
       "      <td>1.008766</td>\n",
       "      <td>0.996591</td>\n",
       "      <td>1.005286</td>\n",
       "      <td>1.009159</td>\n",
       "      <td>0.986601</td>\n",
       "      <td>1.000963</td>\n",
       "    </tr>\n",
       "    <tr>\n",
       "      <th>4</th>\n",
       "      <td>0.980686</td>\n",
       "      <td>1.014620</td>\n",
       "      <td>1.011445</td>\n",
       "      <td>0.991921</td>\n",
       "      <td>1.002397</td>\n",
       "      <td>1.007557</td>\n",
       "      <td>0.982514</td>\n",
       "      <td>1.015981</td>\n",
       "      <td>0.998582</td>\n",
       "      <td>1.028314</td>\n",
       "      <td>...</td>\n",
       "      <td>1.017325</td>\n",
       "      <td>0.992408</td>\n",
       "      <td>1.021351</td>\n",
       "      <td>1.010116</td>\n",
       "      <td>1.003996</td>\n",
       "      <td>0.989456</td>\n",
       "      <td>0.996394</td>\n",
       "      <td>1.007151</td>\n",
       "      <td>0.974502</td>\n",
       "      <td>0.993934</td>\n",
       "    </tr>\n",
       "    <tr>\n",
       "      <th>...</th>\n",
       "      <td>...</td>\n",
       "      <td>...</td>\n",
       "      <td>...</td>\n",
       "      <td>...</td>\n",
       "      <td>...</td>\n",
       "      <td>...</td>\n",
       "      <td>...</td>\n",
       "      <td>...</td>\n",
       "      <td>...</td>\n",
       "      <td>...</td>\n",
       "      <td>...</td>\n",
       "      <td>...</td>\n",
       "      <td>...</td>\n",
       "      <td>...</td>\n",
       "      <td>...</td>\n",
       "      <td>...</td>\n",
       "      <td>...</td>\n",
       "      <td>...</td>\n",
       "      <td>...</td>\n",
       "      <td>...</td>\n",
       "      <td>...</td>\n",
       "    </tr>\n",
       "    <tr>\n",
       "      <th>7556</th>\n",
       "      <td>11.546051</td>\n",
       "      <td>4.401616</td>\n",
       "      <td>8.991781</td>\n",
       "      <td>13.135244</td>\n",
       "      <td>15.857287</td>\n",
       "      <td>26.258948</td>\n",
       "      <td>8.877415</td>\n",
       "      <td>10.785241</td>\n",
       "      <td>34.468315</td>\n",
       "      <td>33.249175</td>\n",
       "      <td>...</td>\n",
       "      <td>19.419475</td>\n",
       "      <td>12.477001</td>\n",
       "      <td>24.861894</td>\n",
       "      <td>22.322386</td>\n",
       "      <td>36.194315</td>\n",
       "      <td>33.329988</td>\n",
       "      <td>14.455095</td>\n",
       "      <td>54.726029</td>\n",
       "      <td>25.693549</td>\n",
       "      <td>15.768332</td>\n",
       "    </tr>\n",
       "    <tr>\n",
       "      <th>7557</th>\n",
       "      <td>11.514043</td>\n",
       "      <td>4.423460</td>\n",
       "      <td>9.069505</td>\n",
       "      <td>13.132474</td>\n",
       "      <td>15.729608</td>\n",
       "      <td>26.560921</td>\n",
       "      <td>8.915876</td>\n",
       "      <td>10.747609</td>\n",
       "      <td>34.413820</td>\n",
       "      <td>33.631403</td>\n",
       "      <td>...</td>\n",
       "      <td>19.461324</td>\n",
       "      <td>12.570440</td>\n",
       "      <td>24.893211</td>\n",
       "      <td>22.303376</td>\n",
       "      <td>36.407961</td>\n",
       "      <td>33.472325</td>\n",
       "      <td>14.522811</td>\n",
       "      <td>55.292531</td>\n",
       "      <td>25.574146</td>\n",
       "      <td>15.987017</td>\n",
       "    </tr>\n",
       "    <tr>\n",
       "      <th>7558</th>\n",
       "      <td>11.650256</td>\n",
       "      <td>4.390650</td>\n",
       "      <td>9.038485</td>\n",
       "      <td>13.225613</td>\n",
       "      <td>15.671598</td>\n",
       "      <td>26.534627</td>\n",
       "      <td>8.821131</td>\n",
       "      <td>10.708345</td>\n",
       "      <td>34.016645</td>\n",
       "      <td>33.528008</td>\n",
       "      <td>...</td>\n",
       "      <td>19.358175</td>\n",
       "      <td>12.494770</td>\n",
       "      <td>25.086337</td>\n",
       "      <td>22.510734</td>\n",
       "      <td>36.793194</td>\n",
       "      <td>33.335922</td>\n",
       "      <td>14.643482</td>\n",
       "      <td>56.104783</td>\n",
       "      <td>25.461407</td>\n",
       "      <td>16.154095</td>\n",
       "    </tr>\n",
       "    <tr>\n",
       "      <th>7559</th>\n",
       "      <td>11.772968</td>\n",
       "      <td>4.432116</td>\n",
       "      <td>9.187782</td>\n",
       "      <td>13.181578</td>\n",
       "      <td>15.740385</td>\n",
       "      <td>26.272529</td>\n",
       "      <td>8.865020</td>\n",
       "      <td>10.721785</td>\n",
       "      <td>33.691700</td>\n",
       "      <td>33.584392</td>\n",
       "      <td>...</td>\n",
       "      <td>19.516391</td>\n",
       "      <td>12.421811</td>\n",
       "      <td>24.766618</td>\n",
       "      <td>22.646674</td>\n",
       "      <td>36.703664</td>\n",
       "      <td>32.889744</td>\n",
       "      <td>14.589117</td>\n",
       "      <td>56.787089</td>\n",
       "      <td>25.411709</td>\n",
       "      <td>16.216444</td>\n",
       "    </tr>\n",
       "    <tr>\n",
       "      <th>7560</th>\n",
       "      <td>11.929159</td>\n",
       "      <td>4.464606</td>\n",
       "      <td>9.302861</td>\n",
       "      <td>13.207949</td>\n",
       "      <td>15.519772</td>\n",
       "      <td>26.151708</td>\n",
       "      <td>8.743240</td>\n",
       "      <td>10.779269</td>\n",
       "      <td>33.975557</td>\n",
       "      <td>33.572743</td>\n",
       "      <td>...</td>\n",
       "      <td>19.347236</td>\n",
       "      <td>12.481187</td>\n",
       "      <td>24.677354</td>\n",
       "      <td>22.822400</td>\n",
       "      <td>36.876862</td>\n",
       "      <td>32.711482</td>\n",
       "      <td>14.575246</td>\n",
       "      <td>56.593535</td>\n",
       "      <td>25.209324</td>\n",
       "      <td>16.274033</td>\n",
       "    </tr>\n",
       "  </tbody>\n",
       "</table>\n",
       "<p>7561 rows × 500 columns</p>\n",
       "</div>"
      ],
      "text/plain": [
       "            0         1         2          3          4          5    \\\n",
       "0      1.000000  1.000000  1.000000   1.000000   1.000000   1.000000   \n",
       "1      0.982340  1.015336  0.997114   1.009582   0.993659   0.995708   \n",
       "2      0.987523  1.019502  1.003811   1.000043   0.996191   0.988325   \n",
       "3      0.987258  1.015078  0.999600   0.994168   1.003663   0.987599   \n",
       "4      0.980686  1.014620  1.011445   0.991921   1.002397   1.007557   \n",
       "...         ...       ...       ...        ...        ...        ...   \n",
       "7556  11.546051  4.401616  8.991781  13.135244  15.857287  26.258948   \n",
       "7557  11.514043  4.423460  9.069505  13.132474  15.729608  26.560921   \n",
       "7558  11.650256  4.390650  9.038485  13.225613  15.671598  26.534627   \n",
       "7559  11.772968  4.432116  9.187782  13.181578  15.740385  26.272529   \n",
       "7560  11.929159  4.464606  9.302861  13.207949  15.519772  26.151708   \n",
       "\n",
       "           6          7          8          9    ...        490        491  \\\n",
       "0     1.000000   1.000000   1.000000   1.000000  ...   1.000000   1.000000   \n",
       "1     0.993239   1.014595   1.008630   1.013435  ...   1.019850   0.987760   \n",
       "2     0.997589   1.017005   0.999302   1.021898  ...   1.032395   0.991961   \n",
       "3     1.000600   1.011623   1.004526   1.023432  ...   1.023816   0.996827   \n",
       "4     0.982514   1.015981   0.998582   1.028314  ...   1.017325   0.992408   \n",
       "...        ...        ...        ...        ...  ...        ...        ...   \n",
       "7556  8.877415  10.785241  34.468315  33.249175  ...  19.419475  12.477001   \n",
       "7557  8.915876  10.747609  34.413820  33.631403  ...  19.461324  12.570440   \n",
       "7558  8.821131  10.708345  34.016645  33.528008  ...  19.358175  12.494770   \n",
       "7559  8.865020  10.721785  33.691700  33.584392  ...  19.516391  12.421811   \n",
       "7560  8.743240  10.779269  33.975557  33.572743  ...  19.347236  12.481187   \n",
       "\n",
       "            492        493        494        495        496        497  \\\n",
       "0      1.000000   1.000000   1.000000   1.000000   1.000000   1.000000   \n",
       "1      0.996175   1.000977   1.013350   0.999950   1.003629   1.003252   \n",
       "2      1.009349   0.994745   1.014049   0.986392   1.006346   1.010075   \n",
       "3      1.016818   1.003288   1.008766   0.996591   1.005286   1.009159   \n",
       "4      1.021351   1.010116   1.003996   0.989456   0.996394   1.007151   \n",
       "...         ...        ...        ...        ...        ...        ...   \n",
       "7556  24.861894  22.322386  36.194315  33.329988  14.455095  54.726029   \n",
       "7557  24.893211  22.303376  36.407961  33.472325  14.522811  55.292531   \n",
       "7558  25.086337  22.510734  36.793194  33.335922  14.643482  56.104783   \n",
       "7559  24.766618  22.646674  36.703664  32.889744  14.589117  56.787089   \n",
       "7560  24.677354  22.822400  36.876862  32.711482  14.575246  56.593535   \n",
       "\n",
       "            498        499  \n",
       "0      1.000000   1.000000  \n",
       "1      0.993821   1.012507  \n",
       "2      0.992198   1.016816  \n",
       "3      0.986601   1.000963  \n",
       "4      0.974502   0.993934  \n",
       "...         ...        ...  \n",
       "7556  25.693549  15.768332  \n",
       "7557  25.574146  15.987017  \n",
       "7558  25.461407  16.154095  \n",
       "7559  25.411709  16.216444  \n",
       "7560  25.209324  16.274033  \n",
       "\n",
       "[7561 rows x 500 columns]"
      ]
     },
     "execution_count": 59,
     "metadata": {},
     "output_type": "execute_result"
    }
   ],
   "source": [
    "# Running a Monte Carlo simulation to forecast 30 years cumulative returns\n",
    "df_stock_forcast.calc_cumulative_return()"
   ]
  },
  {
   "cell_type": "code",
   "execution_count": 61,
   "metadata": {},
   "outputs": [
    {
     "data": {
      "text/plain": [
       "<AxesSubplot:title={'center':'500 Simulations of Cumulative Portfolio Return Trajectories Over the Next 7560 Trading Days.'}>"
      ]
     },
     "execution_count": 61,
     "metadata": {},
     "output_type": "execute_result"
    },
    {
     "data": {
      "image/png": "[encoded data removed]",
      "text/plain": [
       "<Figure size 432x288 with 1 Axes>"
      ]
     },
     "metadata": {
      "needs_background": "light"
     },
     "output_type": "display_data"
    }
   ],
   "source": [
    "# Plot simulation outcomes\n",
    "df_stock_forcast.plot_simulation()"
   ]
  },
  {
   "cell_type": "code",
   "execution_count": 62,
   "metadata": {},
   "outputs": [
    {
     "data": {
      "text/plain": [
       "<AxesSubplot:title={'center':'Distribution of Final Cumuluative Returns Across All 500 Simulations'}, ylabel='Frequency'>"
      ]
     },
     "execution_count": 62,
     "metadata": {},
     "output_type": "execute_result"
    },
    {
     "data": {
      "image/png": "[encoded data removed]",
      "text/plain": [
       "<Figure size 432x288 with 1 Axes>"
      ]
     },
     "metadata": {
      "needs_background": "light"
     },
     "output_type": "display_data"
    }
   ],
   "source": [
    "# Plot probability distribution and confidence intervals\n",
    "df_stock_forcast.plot_distribution()"
   ]
  },
  {
   "cell_type": "markdown",
   "metadata": {},
   "source": [
    "### Retirement Analysis"
   ]
  },
  {
   "cell_type": "code",
   "execution_count": 63,
   "metadata": {},
   "outputs": [
    {
     "name": "stdout",
     "output_type": "stream",
     "text": [
      "count           500.000000\n",
      "mean             21.265878\n",
      "std              15.694176\n",
      "min               1.858598\n",
      "25%              10.687044\n",
      "50%              17.514042\n",
      "75%              26.658571\n",
      "max             149.418423\n",
      "95% CI Lower      3.873025\n",
      "95% CI Upper     63.414210\n",
      "Name: 7560, dtype: float64\n"
     ]
    }
   ],
   "source": [
    "# Fetch summary statistics from the Monte Carlo simulation results\n",
    "sum_stats = df_stock_forcast.summarize_cumulative_return()\n",
    "\n",
    "# Print summary statistics\n",
    "print(sum_stats)"
   ]
  },
  {
   "cell_type": "markdown",
   "metadata": {},
   "source": [
    "### Calculate the expected portfolio return at the 95% lower and upper confidence intervals based on a `$20,000` initial investment."
   ]
  },
  {
   "cell_type": "code",
   "execution_count": 66,
   "metadata": {},
   "outputs": [
    {
     "name": "stdout",
     "output_type": "stream",
     "text": [
      "There is a 95% chance that an initial investment of $20000 in the portfolio over the next 30 years will end within in the range of $77460.51 and $1268284.21\n"
     ]
    }
   ],
   "source": [
    "# Set initial investment\n",
    "initial_investment = 20000\n",
    "\n",
    "# Use the lower and upper `95%` confidence intervals to calculate the range of the possible outcomes of our $20,000\n",
    "ci_lower = round(sum_stats[8]*(initial_investment),2)\n",
    "ci_upper = round(sum_stats[9]*(initial_investment),2)\n",
    "\n",
    "# Print results\n",
    "print(f\"There is a 95% chance that an initial investment of ${initial_investment} in the portfolio\"\n",
    "      f\" over the next 30 years will end within in the range of\"\n",
    "      f\" ${ci_lower} and ${ci_upper}\")"
   ]
  },
  {
   "cell_type": "markdown",
   "metadata": {},
   "source": [
    "### Calculate the expected portfolio return at the `95%` lower and upper confidence intervals based on a `50%` increase in the initial investment."
   ]
  },
  {
   "cell_type": "code",
   "execution_count": 67,
   "metadata": {},
   "outputs": [
    {
     "name": "stdout",
     "output_type": "stream",
     "text": [
      "There is a 95% chance that an initial investment of $20000 in the portfolio over the next 30 years will end within in the range of $116190.76 and $1902426.31\n"
     ]
    }
   ],
   "source": [
    "# Set initial investment\n",
    "initial_investment_2 = 20000 * 1.5\n",
    "\n",
    "# Use the lower and upper `95%` confidence intervals to calculate the range of the possible outcomes of our $30,000\n",
    "ci_lower = round(sum_stats[8]*(initial_investment_2),2)\n",
    "ci_upper = round(sum_stats[9]*(initial_investment_2),2)\n",
    "\n",
    "# Print results\n",
    "print(f\"There is a 95% chance that an initial investment of ${initial_investment} in the portfolio\"\n",
    "      f\" over the next 30 years will end within in the range of\"\n",
    "      f\" ${ci_lower} and ${ci_upper}\")"
   ]
  },
  {
   "cell_type": "markdown",
   "metadata": {},
   "source": [
    "## Optional Challenge - Early Retirement\n",
    "\n",
    "\n",
    "### Five Years Retirement Option"
   ]
  },
  {
   "cell_type": "code",
   "execution_count": 80,
   "metadata": {},
   "outputs": [],
   "source": [
    "# Configuring a Monte Carlo simulation to forecast 5 years cumulative returns\n",
    "num_sims_2 = 500\n",
    "df_5yr_forecast = MCSimulation(\n",
    "    portfolio_data = df_stock_data,\n",
    "    weights = [.90, .10],\n",
    "    num_simulation = num_sims_2,\n",
    "    num_trading_days = 252*5\n",
    ")"
   ]
  },
  {
   "cell_type": "code",
   "execution_count": 81,
   "metadata": {},
   "outputs": [
    {
     "name": "stdout",
     "output_type": "stream",
     "text": [
      "Running Monte Carlo simulation number 0.\n",
      "Running Monte Carlo simulation number 10.\n",
      "Running Monte Carlo simulation number 20.\n",
      "Running Monte Carlo simulation number 30.\n",
      "Running Monte Carlo simulation number 40.\n",
      "Running Monte Carlo simulation number 50.\n",
      "Running Monte Carlo simulation number 60.\n",
      "Running Monte Carlo simulation number 70.\n",
      "Running Monte Carlo simulation number 80.\n",
      "Running Monte Carlo simulation number 90.\n",
      "Running Monte Carlo simulation number 100.\n",
      "Running Monte Carlo simulation number 110.\n",
      "Running Monte Carlo simulation number 120.\n",
      "Running Monte Carlo simulation number 130.\n",
      "Running Monte Carlo simulation number 140.\n",
      "Running Monte Carlo simulation number 150.\n",
      "Running Monte Carlo simulation number 160.\n",
      "Running Monte Carlo simulation number 170.\n",
      "Running Monte Carlo simulation number 180.\n",
      "Running Monte Carlo simulation number 190.\n",
      "Running Monte Carlo simulation number 200.\n",
      "Running Monte Carlo simulation number 210.\n",
      "Running Monte Carlo simulation number 220.\n",
      "Running Monte Carlo simulation number 230.\n",
      "Running Monte Carlo simulation number 240.\n",
      "Running Monte Carlo simulation number 250.\n",
      "Running Monte Carlo simulation number 260.\n",
      "Running Monte Carlo simulation number 270.\n",
      "Running Monte Carlo simulation number 280.\n",
      "Running Monte Carlo simulation number 290.\n",
      "Running Monte Carlo simulation number 300.\n",
      "Running Monte Carlo simulation number 310.\n",
      "Running Monte Carlo simulation number 320.\n",
      "Running Monte Carlo simulation number 330.\n",
      "Running Monte Carlo simulation number 340.\n",
      "Running Monte Carlo simulation number 350.\n",
      "Running Monte Carlo simulation number 360.\n",
      "Running Monte Carlo simulation number 370.\n",
      "Running Monte Carlo simulation number 380.\n",
      "Running Monte Carlo simulation number 390.\n",
      "Running Monte Carlo simulation number 400.\n",
      "Running Monte Carlo simulation number 410.\n",
      "Running Monte Carlo simulation number 420.\n",
      "Running Monte Carlo simulation number 430.\n",
      "Running Monte Carlo simulation number 440.\n",
      "Running Monte Carlo simulation number 450.\n",
      "Running Monte Carlo simulation number 460.\n",
      "Running Monte Carlo simulation number 470.\n",
      "Running Monte Carlo simulation number 480.\n",
      "Running Monte Carlo simulation number 490.\n"
     ]
    },
    {
     "data": {
      "text/html": [
       "<div>\n",
       "<style scoped>\n",
       "    .dataframe tbody tr th:only-of-type {\n",
       "        vertical-align: middle;\n",
       "    }\n",
       "\n",
       "    .dataframe tbody tr th {\n",
       "        vertical-align: top;\n",
       "    }\n",
       "\n",
       "    .dataframe thead th {\n",
       "        text-align: right;\n",
       "    }\n",
       "</style>\n",
       "<table border=\"1\" class=\"dataframe\">\n",
       "  <thead>\n",
       "    <tr style=\"text-align: right;\">\n",
       "      <th></th>\n",
       "      <th>0</th>\n",
       "      <th>1</th>\n",
       "      <th>2</th>\n",
       "      <th>3</th>\n",
       "      <th>4</th>\n",
       "      <th>5</th>\n",
       "      <th>6</th>\n",
       "      <th>7</th>\n",
       "      <th>8</th>\n",
       "      <th>9</th>\n",
       "      <th>...</th>\n",
       "      <th>490</th>\n",
       "      <th>491</th>\n",
       "      <th>492</th>\n",
       "      <th>493</th>\n",
       "      <th>494</th>\n",
       "      <th>495</th>\n",
       "      <th>496</th>\n",
       "      <th>497</th>\n",
       "      <th>498</th>\n",
       "      <th>499</th>\n",
       "    </tr>\n",
       "  </thead>\n",
       "  <tbody>\n",
       "    <tr>\n",
       "      <th>0</th>\n",
       "      <td>1.000000</td>\n",
       "      <td>1.000000</td>\n",
       "      <td>1.000000</td>\n",
       "      <td>1.000000</td>\n",
       "      <td>1.000000</td>\n",
       "      <td>1.000000</td>\n",
       "      <td>1.000000</td>\n",
       "      <td>1.000000</td>\n",
       "      <td>1.000000</td>\n",
       "      <td>1.000000</td>\n",
       "      <td>...</td>\n",
       "      <td>1.000000</td>\n",
       "      <td>1.000000</td>\n",
       "      <td>1.000000</td>\n",
       "      <td>1.000000</td>\n",
       "      <td>1.000000</td>\n",
       "      <td>1.000000</td>\n",
       "      <td>1.000000</td>\n",
       "      <td>1.000000</td>\n",
       "      <td>1.000000</td>\n",
       "      <td>1.000000</td>\n",
       "    </tr>\n",
       "    <tr>\n",
       "      <th>1</th>\n",
       "      <td>0.996479</td>\n",
       "      <td>1.004248</td>\n",
       "      <td>0.999472</td>\n",
       "      <td>1.002127</td>\n",
       "      <td>1.000715</td>\n",
       "      <td>1.003807</td>\n",
       "      <td>1.001186</td>\n",
       "      <td>0.996852</td>\n",
       "      <td>0.996480</td>\n",
       "      <td>0.999892</td>\n",
       "      <td>...</td>\n",
       "      <td>0.999204</td>\n",
       "      <td>1.003341</td>\n",
       "      <td>1.000172</td>\n",
       "      <td>1.002508</td>\n",
       "      <td>1.003319</td>\n",
       "      <td>0.994221</td>\n",
       "      <td>0.997461</td>\n",
       "      <td>0.998180</td>\n",
       "      <td>1.002316</td>\n",
       "      <td>1.002169</td>\n",
       "    </tr>\n",
       "    <tr>\n",
       "      <th>2</th>\n",
       "      <td>1.001402</td>\n",
       "      <td>1.003344</td>\n",
       "      <td>0.993962</td>\n",
       "      <td>1.002891</td>\n",
       "      <td>0.999518</td>\n",
       "      <td>1.006350</td>\n",
       "      <td>1.006416</td>\n",
       "      <td>0.998971</td>\n",
       "      <td>0.997014</td>\n",
       "      <td>1.004530</td>\n",
       "      <td>...</td>\n",
       "      <td>0.998432</td>\n",
       "      <td>1.002893</td>\n",
       "      <td>1.002897</td>\n",
       "      <td>1.006967</td>\n",
       "      <td>1.007861</td>\n",
       "      <td>0.995398</td>\n",
       "      <td>0.993834</td>\n",
       "      <td>0.995465</td>\n",
       "      <td>1.003571</td>\n",
       "      <td>0.998540</td>\n",
       "    </tr>\n",
       "    <tr>\n",
       "      <th>3</th>\n",
       "      <td>1.006904</td>\n",
       "      <td>1.001453</td>\n",
       "      <td>0.993455</td>\n",
       "      <td>1.006250</td>\n",
       "      <td>1.002509</td>\n",
       "      <td>1.006289</td>\n",
       "      <td>1.004750</td>\n",
       "      <td>1.005480</td>\n",
       "      <td>0.999960</td>\n",
       "      <td>1.001926</td>\n",
       "      <td>...</td>\n",
       "      <td>1.001405</td>\n",
       "      <td>1.004978</td>\n",
       "      <td>1.004201</td>\n",
       "      <td>1.009964</td>\n",
       "      <td>1.003819</td>\n",
       "      <td>0.992001</td>\n",
       "      <td>0.992695</td>\n",
       "      <td>0.996692</td>\n",
       "      <td>1.007784</td>\n",
       "      <td>0.994370</td>\n",
       "    </tr>\n",
       "    <tr>\n",
       "      <th>4</th>\n",
       "      <td>1.008950</td>\n",
       "      <td>1.002411</td>\n",
       "      <td>0.993693</td>\n",
       "      <td>1.008698</td>\n",
       "      <td>1.005568</td>\n",
       "      <td>1.007610</td>\n",
       "      <td>1.006928</td>\n",
       "      <td>1.004747</td>\n",
       "      <td>0.997891</td>\n",
       "      <td>1.004574</td>\n",
       "      <td>...</td>\n",
       "      <td>1.000876</td>\n",
       "      <td>1.006971</td>\n",
       "      <td>1.004351</td>\n",
       "      <td>1.009259</td>\n",
       "      <td>1.003703</td>\n",
       "      <td>0.994618</td>\n",
       "      <td>0.989176</td>\n",
       "      <td>0.999254</td>\n",
       "      <td>1.012396</td>\n",
       "      <td>0.989363</td>\n",
       "    </tr>\n",
       "    <tr>\n",
       "      <th>...</th>\n",
       "      <td>...</td>\n",
       "      <td>...</td>\n",
       "      <td>...</td>\n",
       "      <td>...</td>\n",
       "      <td>...</td>\n",
       "      <td>...</td>\n",
       "      <td>...</td>\n",
       "      <td>...</td>\n",
       "      <td>...</td>\n",
       "      <td>...</td>\n",
       "      <td>...</td>\n",
       "      <td>...</td>\n",
       "      <td>...</td>\n",
       "      <td>...</td>\n",
       "      <td>...</td>\n",
       "      <td>...</td>\n",
       "      <td>...</td>\n",
       "      <td>...</td>\n",
       "      <td>...</td>\n",
       "      <td>...</td>\n",
       "      <td>...</td>\n",
       "    </tr>\n",
       "    <tr>\n",
       "      <th>1256</th>\n",
       "      <td>1.009464</td>\n",
       "      <td>0.955936</td>\n",
       "      <td>1.250066</td>\n",
       "      <td>1.013604</td>\n",
       "      <td>1.092064</td>\n",
       "      <td>1.306937</td>\n",
       "      <td>1.320614</td>\n",
       "      <td>1.460990</td>\n",
       "      <td>1.157930</td>\n",
       "      <td>1.172611</td>\n",
       "      <td>...</td>\n",
       "      <td>1.069447</td>\n",
       "      <td>1.269485</td>\n",
       "      <td>1.242096</td>\n",
       "      <td>1.143240</td>\n",
       "      <td>1.094097</td>\n",
       "      <td>1.038530</td>\n",
       "      <td>1.166108</td>\n",
       "      <td>1.219506</td>\n",
       "      <td>1.154327</td>\n",
       "      <td>1.220514</td>\n",
       "    </tr>\n",
       "    <tr>\n",
       "      <th>1257</th>\n",
       "      <td>1.008315</td>\n",
       "      <td>0.965513</td>\n",
       "      <td>1.247140</td>\n",
       "      <td>1.013450</td>\n",
       "      <td>1.091452</td>\n",
       "      <td>1.309032</td>\n",
       "      <td>1.313849</td>\n",
       "      <td>1.474112</td>\n",
       "      <td>1.158779</td>\n",
       "      <td>1.172551</td>\n",
       "      <td>...</td>\n",
       "      <td>1.074882</td>\n",
       "      <td>1.267701</td>\n",
       "      <td>1.248081</td>\n",
       "      <td>1.144035</td>\n",
       "      <td>1.101944</td>\n",
       "      <td>1.045319</td>\n",
       "      <td>1.166201</td>\n",
       "      <td>1.214205</td>\n",
       "      <td>1.158155</td>\n",
       "      <td>1.220834</td>\n",
       "    </tr>\n",
       "    <tr>\n",
       "      <th>1258</th>\n",
       "      <td>1.006816</td>\n",
       "      <td>0.967421</td>\n",
       "      <td>1.250518</td>\n",
       "      <td>1.014845</td>\n",
       "      <td>1.094655</td>\n",
       "      <td>1.307031</td>\n",
       "      <td>1.314682</td>\n",
       "      <td>1.469027</td>\n",
       "      <td>1.158937</td>\n",
       "      <td>1.168435</td>\n",
       "      <td>...</td>\n",
       "      <td>1.069428</td>\n",
       "      <td>1.262780</td>\n",
       "      <td>1.251592</td>\n",
       "      <td>1.145968</td>\n",
       "      <td>1.103855</td>\n",
       "      <td>1.045467</td>\n",
       "      <td>1.170730</td>\n",
       "      <td>1.202389</td>\n",
       "      <td>1.160137</td>\n",
       "      <td>1.216668</td>\n",
       "    </tr>\n",
       "    <tr>\n",
       "      <th>1259</th>\n",
       "      <td>1.004937</td>\n",
       "      <td>0.970777</td>\n",
       "      <td>1.249954</td>\n",
       "      <td>1.014671</td>\n",
       "      <td>1.091323</td>\n",
       "      <td>1.311317</td>\n",
       "      <td>1.310558</td>\n",
       "      <td>1.463218</td>\n",
       "      <td>1.155340</td>\n",
       "      <td>1.163523</td>\n",
       "      <td>...</td>\n",
       "      <td>1.069636</td>\n",
       "      <td>1.260589</td>\n",
       "      <td>1.255779</td>\n",
       "      <td>1.146628</td>\n",
       "      <td>1.098519</td>\n",
       "      <td>1.041304</td>\n",
       "      <td>1.166648</td>\n",
       "      <td>1.197713</td>\n",
       "      <td>1.160640</td>\n",
       "      <td>1.215319</td>\n",
       "    </tr>\n",
       "    <tr>\n",
       "      <th>1260</th>\n",
       "      <td>1.004679</td>\n",
       "      <td>0.969732</td>\n",
       "      <td>1.248225</td>\n",
       "      <td>1.012430</td>\n",
       "      <td>1.088171</td>\n",
       "      <td>1.312806</td>\n",
       "      <td>1.319282</td>\n",
       "      <td>1.463229</td>\n",
       "      <td>1.161224</td>\n",
       "      <td>1.162555</td>\n",
       "      <td>...</td>\n",
       "      <td>1.070205</td>\n",
       "      <td>1.262179</td>\n",
       "      <td>1.246949</td>\n",
       "      <td>1.150485</td>\n",
       "      <td>1.095770</td>\n",
       "      <td>1.042187</td>\n",
       "      <td>1.164308</td>\n",
       "      <td>1.195170</td>\n",
       "      <td>1.163408</td>\n",
       "      <td>1.218724</td>\n",
       "    </tr>\n",
       "  </tbody>\n",
       "</table>\n",
       "<p>1261 rows × 500 columns</p>\n",
       "</div>"
      ],
      "text/plain": [
       "           0         1         2         3         4         5         6    \\\n",
       "0     1.000000  1.000000  1.000000  1.000000  1.000000  1.000000  1.000000   \n",
       "1     0.996479  1.004248  0.999472  1.002127  1.000715  1.003807  1.001186   \n",
       "2     1.001402  1.003344  0.993962  1.002891  0.999518  1.006350  1.006416   \n",
       "3     1.006904  1.001453  0.993455  1.006250  1.002509  1.006289  1.004750   \n",
       "4     1.008950  1.002411  0.993693  1.008698  1.005568  1.007610  1.006928   \n",
       "...        ...       ...       ...       ...       ...       ...       ...   \n",
       "1256  1.009464  0.955936  1.250066  1.013604  1.092064  1.306937  1.320614   \n",
       "1257  1.008315  0.965513  1.247140  1.013450  1.091452  1.309032  1.313849   \n",
       "1258  1.006816  0.967421  1.250518  1.014845  1.094655  1.307031  1.314682   \n",
       "1259  1.004937  0.970777  1.249954  1.014671  1.091323  1.311317  1.310558   \n",
       "1260  1.004679  0.969732  1.248225  1.012430  1.088171  1.312806  1.319282   \n",
       "\n",
       "           7         8         9    ...       490       491       492  \\\n",
       "0     1.000000  1.000000  1.000000  ...  1.000000  1.000000  1.000000   \n",
       "1     0.996852  0.996480  0.999892  ...  0.999204  1.003341  1.000172   \n",
       "2     0.998971  0.997014  1.004530  ...  0.998432  1.002893  1.002897   \n",
       "3     1.005480  0.999960  1.001926  ...  1.001405  1.004978  1.004201   \n",
       "4     1.004747  0.997891  1.004574  ...  1.000876  1.006971  1.004351   \n",
       "...        ...       ...       ...  ...       ...       ...       ...   \n",
       "1256  1.460990  1.157930  1.172611  ...  1.069447  1.269485  1.242096   \n",
       "1257  1.474112  1.158779  1.172551  ...  1.074882  1.267701  1.248081   \n",
       "1258  1.469027  1.158937  1.168435  ...  1.069428  1.262780  1.251592   \n",
       "1259  1.463218  1.155340  1.163523  ...  1.069636  1.260589  1.255779   \n",
       "1260  1.463229  1.161224  1.162555  ...  1.070205  1.262179  1.246949   \n",
       "\n",
       "           493       494       495       496       497       498       499  \n",
       "0     1.000000  1.000000  1.000000  1.000000  1.000000  1.000000  1.000000  \n",
       "1     1.002508  1.003319  0.994221  0.997461  0.998180  1.002316  1.002169  \n",
       "2     1.006967  1.007861  0.995398  0.993834  0.995465  1.003571  0.998540  \n",
       "3     1.009964  1.003819  0.992001  0.992695  0.996692  1.007784  0.994370  \n",
       "4     1.009259  1.003703  0.994618  0.989176  0.999254  1.012396  0.989363  \n",
       "...        ...       ...       ...       ...       ...       ...       ...  \n",
       "1256  1.143240  1.094097  1.038530  1.166108  1.219506  1.154327  1.220514  \n",
       "1257  1.144035  1.101944  1.045319  1.166201  1.214205  1.158155  1.220834  \n",
       "1258  1.145968  1.103855  1.045467  1.170730  1.202389  1.160137  1.216668  \n",
       "1259  1.146628  1.098519  1.041304  1.166648  1.197713  1.160640  1.215319  \n",
       "1260  1.150485  1.095770  1.042187  1.164308  1.195170  1.163408  1.218724  \n",
       "\n",
       "[1261 rows x 500 columns]"
      ]
     },
     "execution_count": 81,
     "metadata": {},
     "output_type": "execute_result"
    }
   ],
   "source": [
    "# Running a Monte Carlo simulation to forecast 5 years cumulative returns\n",
    "df_5yr_forecast.calc_cumulative_return()"
   ]
  },
  {
   "cell_type": "code",
   "execution_count": 82,
   "metadata": {},
   "outputs": [
    {
     "data": {
      "text/plain": [
       "<AxesSubplot:title={'center':'500 Simulations of Cumulative Portfolio Return Trajectories Over the Next 1260 Trading Days.'}>"
      ]
     },
     "execution_count": 82,
     "metadata": {},
     "output_type": "execute_result"
    },
    {
     "data": {
      "image/png": "[encoded data removed]",
      "text/plain": [
       "<Figure size 432x288 with 1 Axes>"
      ]
     },
     "metadata": {
      "needs_background": "light"
     },
     "output_type": "display_data"
    }
   ],
   "source": [
    "# Plot simulation outcomes\n",
    "df_5yr_forecast.plot_simulation()"
   ]
  },
  {
   "cell_type": "code",
   "execution_count": 83,
   "metadata": {},
   "outputs": [
    {
     "data": {
      "text/plain": [
       "<AxesSubplot:title={'center':'Distribution of Final Cumuluative Returns Across All 500 Simulations'}, ylabel='Frequency'>"
      ]
     },
     "execution_count": 83,
     "metadata": {},
     "output_type": "execute_result"
    },
    {
     "data": {
      "image/png": "[encoded data removed]",
      "text/plain": [
       "<Figure size 432x288 with 1 Axes>"
      ]
     },
     "metadata": {
      "needs_background": "light"
     },
     "output_type": "display_data"
    }
   ],
   "source": [
    "# Plot probability distribution and confidence intervals\n",
    "df_5yr_forecast.plot_distribution()"
   ]
  },
  {
   "cell_type": "code",
   "execution_count": 84,
   "metadata": {},
   "outputs": [
    {
     "name": "stdout",
     "output_type": "stream",
     "text": [
      "count           500.000000\n",
      "mean              1.150200\n",
      "std               0.125492\n",
      "min               0.828249\n",
      "25%               1.062198\n",
      "50%               1.148288\n",
      "75%               1.233961\n",
      "max               1.504040\n",
      "95% CI Lower      0.916097\n",
      "95% CI Upper      1.410786\n",
      "Name: 1260, dtype: float64\n"
     ]
    }
   ],
   "source": [
    "# Fetch summary statistics from the Monte Carlo simulation results\n",
    "sum_statistics = df_5yr_forecast.summarize_cumulative_return()\n",
    "\n",
    "# Print summary statistics\n",
    "print(sum_statistics)"
   ]
  },
  {
   "cell_type": "code",
   "execution_count": 88,
   "metadata": {},
   "outputs": [
    {
     "name": "stdout",
     "output_type": "stream",
     "text": [
      "There is a 95% chance that an initial investment of $20000 in the portfolio over the next 5 years will end within in the range of $18321.93 and $28215.72\n"
     ]
    }
   ],
   "source": [
    "# Set initial investment\n",
    "initial_investment_5yr = 20000\n",
    "\n",
    "# Use the lower and upper `95%` confidence intervals to calculate the range of the possible outcomes\n",
    "ci_lower_5yr = round(sum_statistics[8] * initial_investment_5yr,2)\n",
    "ci_upper_5yr = round(sum_statistics[9] * initial_investment_5yr,2)\n",
    "# Print results\n",
    "print(f\"There is a 95% chance that an initial investment of ${initial_investment_5yr} in the portfolio\"\n",
    "      f\" over the next 5 years will end within in the range of\"\n",
    "      f\" ${ci_lower_5yr} and ${ci_upper_5yr}\")"
   ]
  },
  {
   "cell_type": "code",
   "execution_count": null,
   "metadata": {},
   "outputs": [],
   "source": []
  }
 ],
 "metadata": {
  "kernelspec": {
   "display_name": "Python 3",
   "language": "python",
   "name": "python3"
  },
  "language_info": {
   "codemirror_mode": {
    "name": "ipython",
    "version": 3
   },
   "file_extension": ".py",
   "mimetype": "text/x-python",
   "name": "python",
   "nbconvert_exporter": "python",
   "pygments_lexer": "ipython3",
   "version": "3.7.9"
  }
 },
 "nbformat": 4,
 "nbformat_minor": 4
}
